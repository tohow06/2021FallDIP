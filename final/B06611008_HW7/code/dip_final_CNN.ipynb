{
  "nbformat": 4,
  "nbformat_minor": 0,
  "metadata": {
    "colab": {
      "name": "dip_final_CNN.ipynb",
      "provenance": [],
      "collapsed_sections": []
    },
    "kernelspec": {
      "name": "python3",
      "display_name": "Python 3"
    },
    "language_info": {
      "name": "python"
    }
  },
  "cells": [
    {
      "cell_type": "code",
      "source": [
        "import os"
      ],
      "metadata": {
        "id": "MhJVY5S3WQ2Q"
      },
      "execution_count": 1,
      "outputs": []
    },
    {
      "cell_type": "code",
      "source": [
        "!git clone https://github.com/tohow06/Image-Forgery-Detection-CNN.git"
      ],
      "metadata": {
        "colab": {
          "base_uri": "https://localhost:8080/"
        },
        "id": "1mlA1UVzeiCu",
        "outputId": "8d6942b6-d50d-49d4-ff55-f5542b27eb83"
      },
      "execution_count": 2,
      "outputs": [
        {
          "output_type": "stream",
          "name": "stdout",
          "text": [
            "Cloning into 'Image-Forgery-Detection-CNN'...\n",
            "remote: Enumerating objects: 2539, done.\u001b[K\n",
            "remote: Counting objects: 100% (43/43), done.\u001b[K\n",
            "remote: Compressing objects: 100% (31/31), done.\u001b[K\n",
            "remote: Total 2539 (delta 13), reused 31 (delta 12), pack-reused 2496\u001b[K\n",
            "Receiving objects: 100% (2539/2539), 336.40 MiB | 20.28 MiB/s, done.\n",
            "Resolving deltas: 100% (524/524), done.\n"
          ]
        }
      ]
    },
    {
      "cell_type": "code",
      "source": [
        "os.chdir('./Image-Forgery-Detection-CNN/src')"
      ],
      "metadata": {
        "id": "VYCRIFseenKk"
      },
      "execution_count": 3,
      "outputs": []
    },
    {
      "cell_type": "code",
      "source": [
        "print(os.getcwd())"
      ],
      "metadata": {
        "colab": {
          "base_uri": "https://localhost:8080/"
        },
        "id": "8HkngGjwW5jX",
        "outputId": "d3fa3e66-0c58-4917-f4e4-1396d803dc80"
      },
      "execution_count": 4,
      "outputs": [
        {
          "output_type": "stream",
          "name": "stdout",
          "text": [
            "/content/Image-Forgery-Detection-CNN/src\n"
          ]
        }
      ]
    },
    {
      "cell_type": "code",
      "source": [
        "from joblib import load\n",
        "import torch\n",
        "from cnn.cnn import CNN\n",
        "from cv2 import imread\n",
        "import numpy as np\n",
        "from feature_fusion.feature_vector_generation import get_patch_yi"
      ],
      "metadata": {
        "id": "_7s6JK1bW2lQ"
      },
      "execution_count": 5,
      "outputs": []
    },
    {
      "cell_type": "code",
      "source": [
        "def get_feature_vector(image_path: str, model):\n",
        "    feature_vector = np.empty((1, 400))\n",
        "    feature_vector[0, :] = get_patch_yi(model, imread(image_path))\n",
        "    return feature_vector\n",
        "\n",
        "\n",
        "# Load the pretrained CNN with the CASIA2 dataset\n",
        "with torch.no_grad():\n",
        "    our_cnn = CNN()\n",
        "    our_cnn.load_state_dict(torch.load('../data/output/pre_trained_cnn/CASIA2_WithRot_LR001_b128_nodrop.pt',\n",
        "                                       map_location=lambda storage, loc: storage))\n",
        "    our_cnn.eval()\n",
        "    our_cnn = our_cnn.double()\n",
        "\n",
        "# Load the pretrained svm model\n",
        "svm_model = load('../data/output/pre_trained_svm/CASIA2_WithRot_LR001_b128_nodrop.pt')\n",
        "\n",
        "print(\"Labels are 0 for non-tampered and 1 for tampered\")\n",
        "\n",
        "# Probe the SVM model with a non-tampered image\n",
        "non_tampered_image_path = '../data/test_images/Au_ani_00002.jpg'\n",
        "non_tampered_image_feature_vector = get_feature_vector(non_tampered_image_path, our_cnn)\n",
        "print(\"Non tampered prediction:\", svm_model.predict(non_tampered_image_feature_vector))\n",
        "\n",
        "# Probe the SVM model with a tampered image\n",
        "tampered_image_path = '../data/test_images/Tp_D_CNN_M_B_nat00056_nat00099_11105.jpg'\n",
        "tampered_image_feature_vector = get_feature_vector(tampered_image_path, our_cnn)\n",
        "print(\"Tampered prediction:\", svm_model.predict(tampered_image_feature_vector))\n",
        "\n"
      ],
      "metadata": {
        "colab": {
          "base_uri": "https://localhost:8080/"
        },
        "id": "W6gj9kXRY3vv",
        "outputId": "c5fa68d7-f86e-4350-afbe-2815b690670c"
      },
      "execution_count": 8,
      "outputs": [
        {
          "output_type": "stream",
          "name": "stdout",
          "text": [
            "Labels are 0 for non-tampered and 1 for tampered\n",
            "Non tampered prediction: [0]\n",
            "Tampered prediction: [1]\n"
          ]
        },
        {
          "output_type": "stream",
          "name": "stderr",
          "text": [
            "/usr/local/lib/python3.7/dist-packages/sklearn/base.py:333: UserWarning: Trying to unpickle estimator SVC from version 0.24.1 when using version 1.0.1. This might lead to breaking code or invalid results. Use at your own risk. For more info please refer to:\n",
            "https://scikit-learn.org/stable/modules/model_persistence.html#security-maintainability-limitations\n",
            "  UserWarning,\n"
          ]
        }
      ]
    },
    {
      "cell_type": "code",
      "source": [
        ""
      ],
      "metadata": {
        "id": "1FV_XiTQeQQf"
      },
      "execution_count": null,
      "outputs": []
    }
  ]
}